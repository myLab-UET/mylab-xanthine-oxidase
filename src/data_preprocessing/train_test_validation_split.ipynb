{
 "cells": [
  {
   "cell_type": "code",
   "execution_count": 8,
   "metadata": {},
   "outputs": [],
   "source": [
    "import pandas as pd\n",
    "from tabulate import tabulate"
   ]
  },
  {
   "attachments": {},
   "cell_type": "markdown",
   "metadata": {},
   "source": [
    "# Read the data"
   ]
  },
  {
   "cell_type": "code",
   "execution_count": null,
   "metadata": {},
   "outputs": [
    {
     "data": {
      "text/plain": [
       "483"
      ]
     },
     "execution_count": 12,
     "metadata": {},
     "output_type": "execute_result"
    }
   ],
   "source": [
    "all_data_path = \"../../data/preprocessed_data/preprocessed_dataset_XO.xlsx\"\n",
    "dataset = pd.read_excel(all_data_path, sheet_name='Preprocessed_dataset')\n",
    "len(dataset)"
   ]
  },
  {
   "cell_type": "code",
   "execution_count": 13,
   "metadata": {},
   "outputs": [
    {
     "data": {
      "text/html": [
       "<div>\n",
       "<style scoped>\n",
       "    .dataframe tbody tr th:only-of-type {\n",
       "        vertical-align: middle;\n",
       "    }\n",
       "\n",
       "    .dataframe tbody tr th {\n",
       "        vertical-align: top;\n",
       "    }\n",
       "\n",
       "    .dataframe thead th {\n",
       "        text-align: right;\n",
       "    }\n",
       "</style>\n",
       "<table border=\"1\" class=\"dataframe\">\n",
       "  <thead>\n",
       "    <tr style=\"text-align: right;\">\n",
       "      <th></th>\n",
       "      <th>CID</th>\n",
       "      <th>SMILES</th>\n",
       "      <th>IC50(nM)</th>\n",
       "      <th>aid</th>\n",
       "      <th>Type</th>\n",
       "      <th>Substructure</th>\n",
       "    </tr>\n",
       "  </thead>\n",
       "  <tbody>\n",
       "    <tr>\n",
       "      <th>0</th>\n",
       "      <td>190</td>\n",
       "      <td>C1=NC2=NC=NC(=C2N1)N</td>\n",
       "      <td>10890.0</td>\n",
       "      <td>287937</td>\n",
       "      <td>inactive</td>\n",
       "      <td>3</td>\n",
       "    </tr>\n",
       "    <tr>\n",
       "      <th>1</th>\n",
       "      <td>471</td>\n",
       "      <td>C1=CC(=C(C=C1C2C(C(=O)C3=C(C=C(C=C3O2)O)O)O)O)O</td>\n",
       "      <td>100000.0</td>\n",
       "      <td>399340</td>\n",
       "      <td>inactive</td>\n",
       "      <td>14</td>\n",
       "    </tr>\n",
       "    <tr>\n",
       "      <th>2</th>\n",
       "      <td>675</td>\n",
       "      <td>CC1=CC2=C(C=C1C)N=CN2</td>\n",
       "      <td>200000.0</td>\n",
       "      <td>287937</td>\n",
       "      <td>inactive</td>\n",
       "      <td>16</td>\n",
       "    </tr>\n",
       "    <tr>\n",
       "      <th>3</th>\n",
       "      <td>938</td>\n",
       "      <td>C1=CC(=CN=C1)C(=O)O</td>\n",
       "      <td>518230.0</td>\n",
       "      <td>1444598</td>\n",
       "      <td>inactive</td>\n",
       "      <td>16</td>\n",
       "    </tr>\n",
       "    <tr>\n",
       "      <th>4</th>\n",
       "      <td>4947</td>\n",
       "      <td>CCCOC(=O)C1=CC(=C(C(=C1)O)O)O</td>\n",
       "      <td>628000.0</td>\n",
       "      <td>378145</td>\n",
       "      <td>inactive</td>\n",
       "      <td>2</td>\n",
       "    </tr>\n",
       "  </tbody>\n",
       "</table>\n",
       "</div>"
      ],
      "text/plain": [
       "    CID                                           SMILES  IC50(nM)      aid  \\\n",
       "0   190                             C1=NC2=NC=NC(=C2N1)N   10890.0   287937   \n",
       "1   471  C1=CC(=C(C=C1C2C(C(=O)C3=C(C=C(C=C3O2)O)O)O)O)O  100000.0   399340   \n",
       "2   675                            CC1=CC2=C(C=C1C)N=CN2  200000.0   287937   \n",
       "3   938                              C1=CC(=CN=C1)C(=O)O  518230.0  1444598   \n",
       "4  4947                    CCCOC(=O)C1=CC(=C(C(=C1)O)O)O  628000.0   378145   \n",
       "\n",
       "       Type  Substructure  \n",
       "0  inactive             3  \n",
       "1  inactive            14  \n",
       "2  inactive            16  \n",
       "3  inactive            16  \n",
       "4  inactive             2  "
      ]
     },
     "execution_count": 13,
     "metadata": {},
     "output_type": "execute_result"
    }
   ],
   "source": [
    "dataset.head()"
   ]
  },
  {
   "attachments": {},
   "cell_type": "markdown",
   "metadata": {},
   "source": [
    "# 1. Profile of the data"
   ]
  },
  {
   "cell_type": "code",
   "execution_count": 39,
   "metadata": {},
   "outputs": [],
   "source": [
    "def check_activity_distribution(dataset, col_name):\n",
    "    active_rows = dataset.loc[dataset[col_name] == \"active\"]\n",
    "    inactive_rows = dataset.loc[dataset[col_name] == \"inactive\"]\n",
    "\n",
    "    dataset_length = len(dataset)\n",
    "    table = [['', 'Active', 'Inactive'], \n",
    "            ['Number', len(active_rows), len(inactive_rows)],\n",
    "            ['Percentage (%)', len(active_rows)/dataset_length*100, len(inactive_rows)/dataset_length*100]]\n",
    "    print(tabulate(table, headers='firstrow', tablefmt='fancy_grid'))"
   ]
  },
  {
   "cell_type": "code",
   "execution_count": 40,
   "metadata": {},
   "outputs": [
    {
     "name": "stdout",
     "output_type": "stream",
     "text": [
      "All dataset size:  483\n",
      "All dataset activity distribution:\n",
      "╒════════════════╤══════════╤════════════╕\n",
      "│                │   Active │   Inactive │\n",
      "╞════════════════╪══════════╪════════════╡\n",
      "│ Number         │ 217      │   266      │\n",
      "├────────────────┼──────────┼────────────┤\n",
      "│ Percentage (%) │  44.9275 │    55.0725 │\n",
      "╘════════════════╧══════════╧════════════╛\n"
     ]
    }
   ],
   "source": [
    "print('All dataset size: ',len(dataset))\n",
    "print(\"All dataset activity distribution:\")\n",
    "check_activity_distribution(dataset=dataset, col_name='Type')"
   ]
  },
  {
   "attachments": {},
   "cell_type": "markdown",
   "metadata": {},
   "source": [
    "# 2. Train test split"
   ]
  },
  {
   "cell_type": "code",
   "execution_count": null,
   "metadata": {},
   "outputs": [],
   "source": [
    "from sklearn.model_selection import train_test_split\n",
    "\n",
    "train_test_validation_data_path = \"../../data/train_test_validation_data/\"\n",
    "train_test_validation_file_name = \"XO_train_test_validation_data.xlsx\"\n",
    "\n",
    "labels = dataset['Type']  \n",
    "\n",
    "train_test_data, validation_dataset, train_labels, validation_labels = train_test_split(\n",
    "    dataset, labels, test_size= 0.15, random_state=42, stratify=labels\n",
    ")\n",
    "\n",
    "train_dataset, test_dataset, train_labels, test_labels = train_test_split(\n",
    "    train_test_data, train_labels, test_size=0.1765, random_state=42, stratify=train_labels\n",
    ")"
   ]
  },
  {
   "cell_type": "code",
   "execution_count": 30,
   "metadata": {},
   "outputs": [
    {
     "name": "stdout",
     "output_type": "stream",
     "text": [
      "337 73 73\n"
     ]
    }
   ],
   "source": [
    "print(len(train_dataset), len(validation_dataset), len(test_dataset))"
   ]
  },
  {
   "cell_type": "code",
   "execution_count": 31,
   "metadata": {},
   "outputs": [
    {
     "data": {
      "text/html": [
       "<div>\n",
       "<style scoped>\n",
       "    .dataframe tbody tr th:only-of-type {\n",
       "        vertical-align: middle;\n",
       "    }\n",
       "\n",
       "    .dataframe tbody tr th {\n",
       "        vertical-align: top;\n",
       "    }\n",
       "\n",
       "    .dataframe thead th {\n",
       "        text-align: right;\n",
       "    }\n",
       "</style>\n",
       "<table border=\"1\" class=\"dataframe\">\n",
       "  <thead>\n",
       "    <tr style=\"text-align: right;\">\n",
       "      <th></th>\n",
       "      <th>CID</th>\n",
       "      <th>SMILES</th>\n",
       "      <th>IC50(nM)</th>\n",
       "      <th>aid</th>\n",
       "      <th>Type</th>\n",
       "      <th>Substructure</th>\n",
       "    </tr>\n",
       "  </thead>\n",
       "  <tbody>\n",
       "    <tr>\n",
       "      <th>21</th>\n",
       "      <td>65275</td>\n",
       "      <td>COC1=NC(=NC2=C1NC=N2)N</td>\n",
       "      <td>200000.0</td>\n",
       "      <td>287937</td>\n",
       "      <td>inactive</td>\n",
       "      <td>3</td>\n",
       "    </tr>\n",
       "    <tr>\n",
       "      <th>77</th>\n",
       "      <td>5318255</td>\n",
       "      <td>C1=CC(=C(C=C1C2=CC(=O)C3=C(O2)C(=C(C=C3O)O)O[C...</td>\n",
       "      <td>100000.0</td>\n",
       "      <td>1453375</td>\n",
       "      <td>inactive</td>\n",
       "      <td>11</td>\n",
       "    </tr>\n",
       "    <tr>\n",
       "      <th>295</th>\n",
       "      <td>137660639</td>\n",
       "      <td>COC1=C2C(=C(C=C1)/C=C/C(=O)N[C@H](CC3=CNC4=CC=...</td>\n",
       "      <td>60000.0</td>\n",
       "      <td>1433308</td>\n",
       "      <td>inactive</td>\n",
       "      <td>2</td>\n",
       "    </tr>\n",
       "    <tr>\n",
       "      <th>397</th>\n",
       "      <td>156780235</td>\n",
       "      <td>CC(C)CCN1C=C(C2=C1C=CC(=C2)C3=NC=CC(=O)N3)C#N</td>\n",
       "      <td>600.0</td>\n",
       "      <td>1888100</td>\n",
       "      <td>active</td>\n",
       "      <td>3</td>\n",
       "    </tr>\n",
       "    <tr>\n",
       "      <th>20</th>\n",
       "      <td>40634</td>\n",
       "      <td>CC1=C(C2=C(CCC(O2)(C)C(=O)O)C(=C1O)C)C</td>\n",
       "      <td>1000000.0</td>\n",
       "      <td>295041</td>\n",
       "      <td>inactive</td>\n",
       "      <td>16</td>\n",
       "    </tr>\n",
       "  </tbody>\n",
       "</table>\n",
       "</div>"
      ],
      "text/plain": [
       "           CID                                             SMILES   IC50(nM)  \\\n",
       "21       65275                             COC1=NC(=NC2=C1NC=N2)N   200000.0   \n",
       "77     5318255  C1=CC(=C(C=C1C2=CC(=O)C3=C(O2)C(=C(C=C3O)O)O[C...   100000.0   \n",
       "295  137660639  COC1=C2C(=C(C=C1)/C=C/C(=O)N[C@H](CC3=CNC4=CC=...    60000.0   \n",
       "397  156780235      CC(C)CCN1C=C(C2=C1C=CC(=C2)C3=NC=CC(=O)N3)C#N      600.0   \n",
       "20       40634             CC1=C(C2=C(CCC(O2)(C)C(=O)O)C(=C1O)C)C  1000000.0   \n",
       "\n",
       "         aid      Type  Substructure  \n",
       "21    287937  inactive             3  \n",
       "77   1453375  inactive            11  \n",
       "295  1433308  inactive             2  \n",
       "397  1888100    active             3  \n",
       "20    295041  inactive            16  "
      ]
     },
     "execution_count": 31,
     "metadata": {},
     "output_type": "execute_result"
    }
   ],
   "source": [
    "train_dataset.head()"
   ]
  },
  {
   "cell_type": "code",
   "execution_count": 41,
   "metadata": {},
   "outputs": [
    {
     "name": "stdout",
     "output_type": "stream",
     "text": [
      "Train dataset activity distribution:\n",
      "╒════════════════╤══════════╤════════════╕\n",
      "│                │   Active │   Inactive │\n",
      "╞════════════════╪══════════╪════════════╡\n",
      "│ Number         │ 151      │   186      │\n",
      "├────────────────┼──────────┼────────────┤\n",
      "│ Percentage (%) │  44.8071 │    55.1929 │\n",
      "╘════════════════╧══════════╧════════════╛\n",
      "Test dataset activity distribution:\n",
      "╒════════════════╤══════════╤════════════╕\n",
      "│                │   Active │   Inactive │\n",
      "╞════════════════╪══════════╪════════════╡\n",
      "│ Number         │  33      │    40      │\n",
      "├────────────────┼──────────┼────────────┤\n",
      "│ Percentage (%) │  45.2055 │    54.7945 │\n",
      "╘════════════════╧══════════╧════════════╛\n",
      "Validation dataset activity distribution:\n",
      "╒════════════════╤══════════╤════════════╕\n",
      "│                │   Active │   Inactive │\n",
      "╞════════════════╪══════════╪════════════╡\n",
      "│ Number         │  33      │    40      │\n",
      "├────────────────┼──────────┼────────────┤\n",
      "│ Percentage (%) │  45.2055 │    54.7945 │\n",
      "╘════════════════╧══════════╧════════════╛\n",
      "\n"
     ]
    }
   ],
   "source": [
    "print(\"Train dataset activity distribution:\")\n",
    "check_activity_distribution(train_dataset, 'Type')\n",
    "print(\"Test dataset activity distribution:\")\n",
    "check_activity_distribution(test_dataset, 'Type')\n",
    "print(\"Validation dataset activity distribution:\")\n",
    "check_activity_distribution(validation_dataset, 'Type')\n",
    "print()"
   ]
  },
  {
   "cell_type": "code",
   "execution_count": null,
   "metadata": {},
   "outputs": [],
   "source": [
    "# Write to file\n",
    "with pd.ExcelWriter(train_test_validation_data_path + train_test_validation_file_name, engine='openpyxl') as writer:\n",
    "    train_dataset.to_excel(writer, sheet_name='train_dataset', index=False)\n",
    "    test_dataset.to_excel(writer, sheet_name='test_dataset', index=False)\n",
    "    validation_dataset.to_excel(writer, sheet_name='validation_dataset', index=False)"
   ]
  }
 ],
 "metadata": {
  "kernelspec": {
   "display_name": "pharma-env",
   "language": "python",
   "name": "python3"
  },
  "language_info": {
   "codemirror_mode": {
    "name": "ipython",
    "version": 3
   },
   "file_extension": ".py",
   "mimetype": "text/x-python",
   "name": "python",
   "nbconvert_exporter": "python",
   "pygments_lexer": "ipython3",
   "version": "3.12.4"
  },
  "orig_nbformat": 4
 },
 "nbformat": 4,
 "nbformat_minor": 2
}
